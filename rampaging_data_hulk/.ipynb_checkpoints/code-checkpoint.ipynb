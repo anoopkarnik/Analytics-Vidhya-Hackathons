{
 "cells": [
  {
   "cell_type": "code",
   "execution_count": 28,
   "metadata": {
    "collapsed": false
   },
   "outputs": [],
   "source": [
    "import pandas as pd \n",
    "import xgboost as xgb\n",
    "import numpy as np\n",
    "from sklearn import cross_validation, metrics   #Additional scklearn functions\n",
    "from sklearn.grid_search import GridSearchCV   #Perforing grid search\n",
    "\n",
    "import matplotlib.pylab as plt\n",
    "%matplotlib inline\n",
    "from matplotlib.pylab import rcParams\n",
    "rcParams['figure.figsize'] = 12, 4\n",
    "import nltk\n",
    "#from fuzzywuzzy import fuzz\n",
    "import re\n",
    "from sklearn.ensemble import GradientBoostingClassifier\n",
    "from xgboost.sklearn import XGBClassifier\n"
   ]
  },
  {
   "cell_type": "code",
   "execution_count": 22,
   "metadata": {
    "collapsed": true
   },
   "outputs": [],
   "source": [
    "train = pd.read_csv('train.csv')\n",
    "test = pd.read_csv('test.csv')\n",
    "ID = 'ID'\n",
    "target = 'Outcome'\n",
    "train['source'] = 'train'\n",
    "test['source'] = 'test'"
   ]
  },
  {
   "cell_type": "code",
   "execution_count": 13,
   "metadata": {
    "collapsed": false
   },
   "outputs": [
    {
     "name": "stdout",
     "output_type": "stream",
     "text": [
      "(702739, 13)\n",
      "0    384456\n",
      "1    318283\n",
      "Name: Outcome, dtype: int64\n",
      "ID                                object\n",
      "timestamp                          int64\n",
      "Stock_ID                           int64\n",
      "Volume                           float64\n",
      "Three_Day_Moving_Average         float64\n",
      "Five_Day_Moving_Average          float64\n",
      "Ten_Day_Moving_Average           float64\n",
      "Twenty_Day_Moving_Average        float64\n",
      "True_Range                       float64\n",
      "Average_True_Range               float64\n",
      "Positive_Directional_Movement    float64\n",
      "Negative_Directional_Movement    float64\n",
      "Outcome                            int64\n",
      "dtype: object\n",
      "(101946, 12)\n",
      "ID                                object\n",
      "timestamp                          int64\n",
      "Stock_ID                           int64\n",
      "Volume                           float64\n",
      "Three_Day_Moving_Average         float64\n",
      "Five_Day_Moving_Average          float64\n",
      "Ten_Day_Moving_Average           float64\n",
      "Twenty_Day_Moving_Average        float64\n",
      "True_Range                       float64\n",
      "Average_True_Range               float64\n",
      "Positive_Directional_Movement    float64\n",
      "Negative_Directional_Movement    float64\n",
      "dtype: object\n"
     ]
    }
   ],
   "source": [
    "print train.shape\n",
    "print train.Outcome.value_counts()\n",
    "print train.dtypes\n",
    "print test.shape\n",
    "print test.dtypes\n"
   ]
  },
  {
   "cell_type": "code",
   "execution_count": 23,
   "metadata": {
    "collapsed": false
   },
   "outputs": [],
   "source": [
    "combi = pd.concat([train,test])"
   ]
  },
  {
   "cell_type": "code",
   "execution_count": 24,
   "metadata": {
    "collapsed": true
   },
   "outputs": [],
   "source": [
    "combi.Three_Day_Moving_Average = combi.Three_Day_Moving_Average.fillna(combi.Three_Day_Moving_Average.mean())\n",
    "combi.Five_Day_Moving_Average = combi.Five_Day_Moving_Average.fillna(combi.Five_Day_Moving_Average.mean())\n",
    "combi.Ten_Day_Moving_Average = combi.Ten_Day_Moving_Average.fillna(combi.Ten_Day_Moving_Average.mean())\n",
    "combi.Twenty_Day_Moving_Average = combi.Twenty_Day_Moving_Average.fillna(combi.Twenty_Day_Moving_Average.mean())\n",
    "combi.Average_True_Range  = combi.Average_True_Range.fillna(combi.Average_True_Range.mean())\n",
    "combi.Positive_Directional_Movement   = combi.Positive_Directional_Movement.fillna(combi.Positive_Directional_Movement.mean())\n",
    "combi.Negative_Directional_Movement  = combi.Negative_Directional_Movement.fillna(combi.Negative_Directional_Movement.mean())"
   ]
  },
  {
   "cell_type": "code",
   "execution_count": 21,
   "metadata": {
    "collapsed": false
   },
   "outputs": [
    {
     "data": {
      "text/plain": [
       "Average_True_Range                    0\n",
       "Five_Day_Moving_Average               0\n",
       "ID                                    0\n",
       "Negative_Directional_Movement         0\n",
       "Outcome                          101946\n",
       "Positive_Directional_Movement         0\n",
       "Stock_ID                              0\n",
       "Ten_Day_Moving_Average                0\n",
       "Three_Day_Moving_Average              0\n",
       "True_Range                            0\n",
       "Twenty_Day_Moving_Average             0\n",
       "Volume                                0\n",
       "timestamp                             0\n",
       "dtype: int64"
      ]
     },
     "execution_count": 21,
     "metadata": {},
     "output_type": "execute_result"
    }
   ],
   "source": [
    "combi.apply(lambda x: sum(x.isnull()))"
   ]
  },
  {
   "cell_type": "code",
   "execution_count": 25,
   "metadata": {
    "collapsed": true
   },
   "outputs": [],
   "source": [
    "train_final = combi[combi['source'] == 'train']\n",
    "test_final = combi[combi['source'] == 'test']"
   ]
  },
  {
   "cell_type": "code",
   "execution_count": 43,
   "metadata": {
    "collapsed": false
   },
   "outputs": [
    {
     "name": "stdout",
     "output_type": "stream",
     "text": [
      "['Average_True_Range', 'Five_Day_Moving_Average', 'Negative_Directional_Movement', 'Positive_Directional_Movement', 'Ten_Day_Moving_Average', 'Three_Day_Moving_Average', 'True_Range', 'Twenty_Day_Moving_Average', 'Volume', 'timestamp']\n"
     ]
    }
   ],
   "source": [
    "predictors = [x for x in train_final.columns if x not in [target, ID,'source','Stock_ID']]\n",
    "print predictors"
   ]
  },
  {
   "cell_type": "code",
   "execution_count": 98,
   "metadata": {
    "collapsed": false
   },
   "outputs": [],
   "source": [
    "xgb = XGBClassifier(\n",
    " learning_rate =0.1,\n",
    " n_estimators=1000,\n",
    " max_depth=5,\n",
    " min_child_weight=1,\n",
    " gamma=0,\n",
    " subsample=0.8,\n",
    " colsample_bytree=0.8,\n",
    " objective= 'binary:logistic', \n",
    " nthread=4,\n",
    " scale_pos_weight=1,\n",
    " seed=27)"
   ]
  },
  {
   "cell_type": "code",
   "execution_count": 99,
   "metadata": {
    "collapsed": false
   },
   "outputs": [],
   "source": [
    "xgb1 = XGBClassifier(\n",
    " learning_rate =0.1,\n",
    " n_estimators=1000,\n",
    " max_depth=5,\n",
    " min_child_weight=1,\n",
    " gamma=0,\n",
    " subsample=0.8,\n",
    " colsample_bytree=0.8,\n",
    " objective= 'binary:logistic', \n",
    " nthread=4,\n",
    " scale_pos_weight=1,\n",
    " seed=27)"
   ]
  },
  {
   "cell_type": "code",
   "execution_count": null,
   "metadata": {
    "collapsed": false
   },
   "outputs": [
    {
     "name": "stderr",
     "output_type": "stream",
     "text": [
      "/home/anoop/gl-env/lib/python2.7/site-packages/ipykernel/__main__.py:16: SettingWithCopyWarning: \n",
      "A value is trying to be set on a copy of a slice from a DataFrame.\n",
      "Try using .loc[row_indexer,col_indexer] = value instead\n",
      "\n",
      "See the caveats in the documentation: http://pandas.pydata.org/pandas-docs/stable/indexing.html#indexing-view-versus-copy\n"
     ]
    }
   ],
   "source": [
    "sol2 = pd.DataFrame(columns = ['ID','Outcome'])\n",
    "for stock in train_final.Stock_ID.unique():\n",
    "    train_stock = train_final[train_final['Stock_ID'] == stock]\n",
    "    test_stock = test_final[test_final['Stock_ID'] == stock] \n",
    "    combi = pd.concat([train_stock,test_stock])\n",
    "    combi.Three_Day_Moving_Average = combi.Three_Day_Moving_Average.fillna(combi.Three_Day_Moving_Average.median())\n",
    "    combi.Five_Day_Moving_Average = combi.Five_Day_Moving_Average.fillna(combi.Five_Day_Moving_Average.median())\n",
    "    combi.Ten_Day_Moving_Average = combi.Ten_Day_Moving_Average.fillna(combi.Ten_Day_Moving_Average.median())\n",
    "    combi.Twenty_Day_Moving_Average = combi.Twenty_Day_Moving_Average.fillna(combi.Twenty_Day_Moving_Average.median())\n",
    "    combi.Average_True_Range  = combi.Average_True_Range.fillna(combi.Average_True_Range.median())\n",
    "    combi.Positive_Directional_Movement   = combi.Positive_Directional_Movement.fillna(combi.Positive_Directional_Movement.median())\n",
    "    combi.Negative_Directional_Movement  = combi.Negative_Directional_Movement.fillna(combi.Negative_Directional_Movement.median())\n",
    "    train_stock = combi[combi['source'] == 'train']\n",
    "    test_storck = combi[combi['source'] == 'test']\n",
    "    xgb.fit(train_stock[predictors], train_stock[target],eval_metric='logloss')\n",
    "    test_stock[target] = xgb.predict(test_stock[predictors])\n",
    "    sub = test_stock[['ID','Outcome']]\n",
    "    sol2 = sol2.append(sub, ignore_index = True)\n",
    "    "
   ]
  },
  {
   "cell_type": "code",
   "execution_count": 93,
   "metadata": {
    "collapsed": false
   },
   "outputs": [],
   "source": [
    "s = pd.DataFrame()\n",
    "for stock in list(set(a) - set(b)):\n",
    "    test_stock1 = test_final[test_final['Stock_ID'] == stock]\n",
    "    s= s.append(test_stock1)\n",
    "xgb.fit(train_final[predictors], train_final[target],eval_metric='logloss')\n",
    "s[target] = xgb.predict(s[predictors])\n",
    "sub2 = s[['ID','Outcome']]\n",
    " "
   ]
  },
  {
   "cell_type": "code",
   "execution_count": 94,
   "metadata": {
    "collapsed": false
   },
   "outputs": [],
   "source": [
    "sol3 = sol2.append(sub2)"
   ]
  },
  {
   "cell_type": "code",
   "execution_count": 96,
   "metadata": {
    "collapsed": false
   },
   "outputs": [
    {
     "name": "stdout",
     "output_type": "stream",
     "text": [
      "(101946, 2)\n",
      "(101946, 14)\n"
     ]
    }
   ],
   "source": [
    "print sol3.shape\n",
    "print test_final.shape"
   ]
  },
  {
   "cell_type": "code",
   "execution_count": 32,
   "metadata": {
    "collapsed": false
   },
   "outputs": [
    {
     "name": "stderr",
     "output_type": "stream",
     "text": [
      "/home/anoop/gl-env/lib/python2.7/site-packages/ipykernel/__main__.py:1: SettingWithCopyWarning: \n",
      "A value is trying to be set on a copy of a slice from a DataFrame.\n",
      "Try using .loc[row_indexer,col_indexer] = value instead\n",
      "\n",
      "See the caveats in the documentation: http://pandas.pydata.org/pandas-docs/stable/indexing.html#indexing-view-versus-copy\n",
      "  if __name__ == '__main__':\n"
     ]
    }
   ],
   "source": [
    "test_final[target] = xgb.predict(test_final[predictors])"
   ]
  },
  {
   "cell_type": "code",
   "execution_count": 33,
   "metadata": {
    "collapsed": true
   },
   "outputs": [],
   "source": [
    "sol1 = test_final[[ID,target]]\n",
    "sol1.to_csv('sol1.csv')"
   ]
  },
  {
   "cell_type": "code",
   "execution_count": 97,
   "metadata": {
    "collapsed": true
   },
   "outputs": [],
   "source": [
    "sol3.to_csv('sol3.csv',index =False)"
   ]
  },
  {
   "cell_type": "code",
   "execution_count": null,
   "metadata": {
    "collapsed": true
   },
   "outputs": [],
   "source": []
  }
 ],
 "metadata": {
  "kernelspec": {
   "display_name": "Python 2",
   "language": "python",
   "name": "python2"
  },
  "language_info": {
   "codemirror_mode": {
    "name": "ipython",
    "version": 2
   },
   "file_extension": ".py",
   "mimetype": "text/x-python",
   "name": "python",
   "nbconvert_exporter": "python",
   "pygments_lexer": "ipython2",
   "version": "2.7.12"
  }
 },
 "nbformat": 4,
 "nbformat_minor": 2
}
