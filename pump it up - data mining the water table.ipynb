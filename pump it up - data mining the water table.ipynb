{
 "cells": [
  {
   "cell_type": "code",
   "execution_count": 3,
   "metadata": {},
   "outputs": [],
   "source": [
    "import xgboost as xgb\n",
    "import pandas as pd\n",
    "import numpy as np\n",
    "import nltk\n",
    "import re\n",
    "from sklearn.ensemble import GradientBoostingClassifier\n",
    "from sklearn import cross_validation,metrics\n",
    "from sklearn.grid_search import GridSearchCV\n",
    "import matplotlib.pylab as plt\n",
    "%matplotlib inline\n",
    "from matplotlib.pylab import rcParams\n",
    "rcParams['figure.figsize'] = 12,4"
   ]
  },
  {
   "cell_type": "code",
   "execution_count": 4,
   "metadata": {
    "collapsed": true
   },
   "outputs": [],
   "source": [
    "train = pd.read_csv('Train.csv')\n",
    "test = pd.read_csv('Test.csv')\n",
    "sub = pd.read_csv('Sub.csv')\n",
    "labels = pd.read_csv('Labels.csv')"
   ]
  },
  {
   "cell_type": "code",
   "execution_count": 5,
   "metadata": {
    "collapsed": true
   },
   "outputs": [],
   "source": [
    "labels.status_group.value_counts()\n",
    "train['data'] ='train'\n",
    "test['data'] = 'test'"
   ]
  },
  {
   "cell_type": "code",
   "execution_count": 6,
   "metadata": {
    "collapsed": true
   },
   "outputs": [],
   "source": [
    "combi = pd.concat([train,test])"
   ]
  },
  {
   "cell_type": "code",
   "execution_count": 28,
   "metadata": {},
   "outputs": [
    {
     "name": "stdout",
     "output_type": "stream",
     "text": [
      "(74250, 42)\n",
      "(59400, 41)\n",
      "(14850, 41)\n"
     ]
    }
   ],
   "source": [
    "print combi.shape\n",
    "print train.shape\n",
    "print test.shape"
   ]
  },
  {
   "cell_type": "code",
   "execution_count": 35,
   "metadata": {},
   "outputs": [
    {
     "data": {
      "text/plain": [
       "id                         int64\n",
       "amount_tsh               float64\n",
       "funder                    object\n",
       "gps_height                 int64\n",
       "installer                 object\n",
       "longitude                float64\n",
       "latitude                 float64\n",
       "wpt_name                  object\n",
       "num_private                int64\n",
       "basin                     object\n",
       "subvillage                object\n",
       "region                    object\n",
       "region_code                int64\n",
       "district_code              int64\n",
       "lga                       object\n",
       "ward                      object\n",
       "population                 int64\n",
       "public_meeting            object\n",
       "recorded_by               object\n",
       "scheme_management         object\n",
       "scheme_name               object\n",
       "permit                    object\n",
       "construction_year          int64\n",
       "extraction_type           object\n",
       "extraction_type_group     object\n",
       "extraction_type_class     object\n",
       "management                object\n",
       "management_group          object\n",
       "payment                   object\n",
       "payment_type              object\n",
       "water_quality             object\n",
       "quality_group             object\n",
       "quantity                  object\n",
       "quantity_group            object\n",
       "source                    object\n",
       "source_type               object\n",
       "source_class              object\n",
       "waterpoint_type           object\n",
       "waterpoint_type_group     object\n",
       "data                      object\n",
       "year_recorded              int64\n",
       "month_recorded             int64\n",
       "day_recorded               int64\n",
       "dtype: object"
      ]
     },
     "execution_count": 35,
     "metadata": {},
     "output_type": "execute_result"
    }
   ],
   "source": [
    "combi.dtypes"
   ]
  },
  {
   "cell_type": "code",
   "execution_count": 15,
   "metadata": {},
   "outputs": [
    {
     "data": {
      "text/plain": [
       "id                           0\n",
       "amount_tsh                   0\n",
       "date_recorded                0\n",
       "funder                    4504\n",
       "gps_height                   0\n",
       "installer                 4532\n",
       "longitude                    0\n",
       "latitude                     0\n",
       "wpt_name                     0\n",
       "num_private                  0\n",
       "basin                        0\n",
       "subvillage                 470\n",
       "region                       0\n",
       "region_code                  0\n",
       "district_code                0\n",
       "lga                          0\n",
       "ward                         0\n",
       "population                   0\n",
       "public_meeting               0\n",
       "recorded_by                  0\n",
       "scheme_management            0\n",
       "scheme_name              35258\n",
       "permit                       0\n",
       "construction_year            0\n",
       "extraction_type              0\n",
       "extraction_type_group        0\n",
       "extraction_type_class        0\n",
       "management                   0\n",
       "management_group             0\n",
       "payment                      0\n",
       "payment_type                 0\n",
       "water_quality                0\n",
       "quality_group                0\n",
       "quantity                     0\n",
       "quantity_group               0\n",
       "source                       0\n",
       "source_type                  0\n",
       "source_class                 0\n",
       "waterpoint_type              0\n",
       "waterpoint_type_group        0\n",
       "data                         0\n",
       "dtype: int64"
      ]
     },
     "execution_count": 15,
     "metadata": {},
     "output_type": "execute_result"
    }
   ],
   "source": [
    "combi.apply(lambda x: sum(x.isnull()))"
   ]
  },
  {
   "cell_type": "code",
   "execution_count": 49,
   "metadata": {},
   "outputs": [
    {
     "data": {
      "text/plain": [
       "spring                  21216\n",
       "shallow well            21140\n",
       "machine dbh             13822\n",
       "river                   11964\n",
       "rainwater harvesting     2863\n",
       "hand dtw                 1108\n",
       "lake                      950\n",
       "dam                       840\n",
       "other                     261\n",
       "unknown                    86\n",
       "Name: source, dtype: int64"
      ]
     },
     "execution_count": 49,
     "metadata": {},
     "output_type": "execute_result"
    }
   ],
   "source": [
    "combi.funder.value_counts()\n",
    "combi.installer.value_counts()\n",
    "combi.wpt_name.value_counts()\n",
    "combi.basin.value_counts()\n",
    "combi.subvillage.value_counts()\n",
    "combi.region.value_counts()\n",
    "combi.region_code.value_counts()\n",
    "combi.district_code.value_counts()\n",
    "combi.extraction_type_class.value_counts()\n",
    "combi.management_group.value_counts()\n",
    "combi.payment_type.value_counts()\n",
    "combi.quality_group.value_counts()\n",
    "combi.quantity_group.value_counts()\n",
    "combi.source_type.value_counts()\n",
    "combi.source_class.value_counts()\n",
    "combi.waterpoint_type.value_counts()\n",
    "combi.waterpoint_type_group.value_counts()\n",
    "combi.source.value_counts()\n",
    "combi.quantity.value_counts()\n",
    "combi.water_quality.value_counts()\n",
    "combi.payment.value_counts()\n",
    "combi.permit.value_counts()\n",
    "combi.management.value_counts()\n",
    "combi.construction_year.value_counts()\n",
    "combi.scheme_management.value_counts()\n",
    "combi.recorded_by.value_counts()\n",
    "combi.lga.value_counts()\n",
    "combi.ward.value_counts()\n",
    "combi.population.value_counts()"
   ]
  },
  {
   "cell_type": "code",
   "execution_count": 51,
   "metadata": {
    "collapsed": true
   },
   "outputs": [],
   "source": [
    "num_variables = ['id','amount_tsh', 'age2','age1','gps_height','year_recorded', 'num_private','construction_year','population','latitude','longitude','data']\n",
    "cat_variables = ['month_recorded','day_recorded','funder','basin','region','region_code','district_code','extraction_type_class','management_group','payment_type','quality_group',\n",
    "                'quantity_group','source','source_type','source_class','waterpoint_type','waterpoint_type_group','quantity','water_quality',\n",
    "                 'payment','permit','management','extraction_type_group','extraction_type','scheme_management','public_meeting']\n",
    "tot_variables = num_variables + cat_variables"
   ]
  },
  {
   "cell_type": "code",
   "execution_count": 50,
   "metadata": {},
   "outputs": [],
   "source": [
    "combi.permit = combi.permit.fillna('NA')\n",
    "combi.scheme_management = combi.scheme_management.fillna('NA')\n",
    "combi.public_meeting = combi.public_meeting.fillna('NA')\n",
    "combi.date_recorded = pd.to_datetime(combi.date_recorded)\n",
    "combi['year_recorded'] = combi.date_recorded.map(lambda x : x.year)\n",
    "combi['month_recorded'] = combi.date_recorded.map(lambda x : x.month)\n",
    "combi['day_recorded'] = combi.date_recorded.map(lambda x : x.dayofweek)\n",
    "combi.drop('date_recorded',axis=1,inplace=True)\n",
    "combi.funder = combi.funder.fillna('NA')\n",
    "combi.funder = np.where(combi.funder == \"Government of Tanzania\", 'Govt', np.where(combi.funder == \"NA\",\"NA\",\n",
    "                                                                                   \"others\"))\n",
    "combi.installer = combi.installer.fillna('NA')\n",
    "combi.installer = np.where(combi.installer == \"DWE\", 'DWE', np.where(combi.installer == \"NA\",\"NA\",\n",
    "                                                                                   \"others\"))\n",
    "combi['age1'] = 2017 - combi['construction_year']\n",
    "combi['age2'] = combi['year_recorded'] - combi['construction_year']"
   ]
  },
  {
   "cell_type": "code",
   "execution_count": 52,
   "metadata": {
    "collapsed": true
   },
   "outputs": [],
   "source": [
    "combi_new = combi[tot_variables]\n"
   ]
  },
  {
   "cell_type": "code",
   "execution_count": null,
   "metadata": {
    "collapsed": true
   },
   "outputs": [],
   "source": []
  },
  {
   "cell_type": "code",
   "execution_count": 53,
   "metadata": {},
   "outputs": [
    {
     "name": "stderr",
     "output_type": "stream",
     "text": [
      "/home/anoop/anaconda2/lib/python2.7/site-packages/ipykernel_launcher.py:5: SettingWithCopyWarning: \n",
      "A value is trying to be set on a copy of a slice from a DataFrame.\n",
      "Try using .loc[row_indexer,col_indexer] = value instead\n",
      "\n",
      "See the caveats in the documentation: http://pandas.pydata.org/pandas-docs/stable/indexing.html#indexing-view-versus-copy\n",
      "  \"\"\"\n"
     ]
    }
   ],
   "source": [
    "from sklearn.preprocessing import LabelEncoder\n",
    "le = LabelEncoder()\n",
    "var_to_encode = cat_variables\n",
    "for col in var_to_encode:\n",
    "    combi_new[col] = le.fit_transform(combi_new[col])\n",
    "combi_new = pd.get_dummies(combi_new, columns=var_to_encode)"
   ]
  },
  {
   "cell_type": "code",
   "execution_count": 54,
   "metadata": {
    "collapsed": true
   },
   "outputs": [],
   "source": [
    "train_new = combi_new[combi_new.data == 'train']\n",
    "test_new = combi_new[combi_new.data == 'test']"
   ]
  },
  {
   "cell_type": "code",
   "execution_count": 55,
   "metadata": {
    "collapsed": true
   },
   "outputs": [],
   "source": [
    "train_new = pd.merge(train_new,labels,on = 'id')"
   ]
  },
  {
   "cell_type": "code",
   "execution_count": 56,
   "metadata": {
    "collapsed": true
   },
   "outputs": [],
   "source": [
    "target = 'status_group' "
   ]
  },
  {
   "cell_type": "code",
   "execution_count": 57,
   "metadata": {
    "collapsed": true
   },
   "outputs": [],
   "source": [
    "from xgboost.sklearn import XGBClassifier\n",
    "xgb1 = XGBClassifier(\n",
    " learning_rate =0.01,\n",
    " n_estimators=1000,\n",
    " max_depth=20,\n",
    " min_child_weight=1,\n",
    " gamma=0,\n",
    " subsample=0.8,\n",
    " colsample_bytree=0.8,\n",
    " objective= 'multi:softmax',\n",
    " nthread=4,\n",
    " scale_pos_weight=1,\n",
    " seed=27)\n"
   ]
  },
  {
   "cell_type": "code",
   "execution_count": 58,
   "metadata": {
    "collapsed": true
   },
   "outputs": [],
   "source": [
    "from sklearn.model_selection import train_test_split\n",
    "predictors = [x for x in combi_new.columns if x not in [target, 'id','data']]\n",
    "train_set,test_set = train_test_split(train_new, test_size=0.2, random_state=42)"
   ]
  },
  {
   "cell_type": "code",
   "execution_count": 75,
   "metadata": {},
   "outputs": [
    {
     "name": "stdout",
     "output_type": "stream",
     "text": [
      "(59400, 195)\n",
      "(47520, 195)\n",
      "(11880, 195)\n"
     ]
    }
   ],
   "source": [
    "print train_new.shape\n",
    "print train_set.shape\n",
    "print test_set.shape"
   ]
  },
  {
   "cell_type": "code",
   "execution_count": 59,
   "metadata": {},
   "outputs": [
    {
     "data": {
      "text/plain": [
       "XGBClassifier(base_score=0.5, colsample_bylevel=1, colsample_bytree=0.8,\n",
       "       gamma=0, learning_rate=0.01, max_delta_step=0, max_depth=20,\n",
       "       min_child_weight=1, missing=None, n_estimators=1000, nthread=4,\n",
       "       objective='multi:softprob', reg_alpha=0, reg_lambda=1,\n",
       "       scale_pos_weight=1, seed=27, silent=True, subsample=0.8)"
      ]
     },
     "execution_count": 59,
     "metadata": {},
     "output_type": "execute_result"
    }
   ],
   "source": [
    "xgb1.fit(train_new[predictors],train_new[target])"
   ]
  },
  {
   "cell_type": "code",
   "execution_count": 77,
   "metadata": {},
   "outputs": [
    {
     "name": "stderr",
     "output_type": "stream",
     "text": [
      "/home/anoop/anaconda2/lib/python2.7/site-packages/ipykernel_launcher.py:1: SettingWithCopyWarning: \n",
      "A value is trying to be set on a copy of a slice from a DataFrame.\n",
      "Try using .loc[row_indexer,col_indexer] = value instead\n",
      "\n",
      "See the caveats in the documentation: http://pandas.pydata.org/pandas-docs/stable/indexing.html#indexing-view-versus-copy\n",
      "  \"\"\"Entry point for launching an IPython kernel.\n"
     ]
    }
   ],
   "source": [
    "test_set['prediction'] = xgb1.predict(test_set[predictors])\n"
   ]
  },
  {
   "cell_type": "code",
   "execution_count": 60,
   "metadata": {},
   "outputs": [
    {
     "name": "stdout",
     "output_type": "stream",
     "text": [
      "0.98063973064\n"
     ]
    }
   ],
   "source": [
    "print xgb1.score(test_set[predictors], test_set[target])\n",
    "test_new['status_group'] = xgb1.predict(test_new[predictors])\n"
   ]
  },
  {
   "cell_type": "code",
   "execution_count": 62,
   "metadata": {
    "collapsed": true
   },
   "outputs": [],
   "source": [
    "sub1 = test_new[['id','status_group']]\n",
    "sub1.to_csv('sub14.csv',index=False)"
   ]
  },
  {
   "cell_type": "code",
   "execution_count": 61,
   "metadata": {},
   "outputs": [
    {
     "name": "stderr",
     "output_type": "stream",
     "text": [
      "/home/anoop/anaconda2/lib/python2.7/site-packages/ipykernel_launcher.py:1: SettingWithCopyWarning: \n",
      "A value is trying to be set on a copy of a slice from a DataFrame.\n",
      "Try using .loc[row_indexer,col_indexer] = value instead\n",
      "\n",
      "See the caveats in the documentation: http://pandas.pydata.org/pandas-docs/stable/indexing.html#indexing-view-versus-copy\n",
      "  \"\"\"Entry point for launching an IPython kernel.\n"
     ]
    }
   ],
   "source": []
  },
  {
   "cell_type": "code",
   "execution_count": null,
   "metadata": {
    "collapsed": true
   },
   "outputs": [],
   "source": []
  },
  {
   "cell_type": "code",
   "execution_count": null,
   "metadata": {
    "collapsed": true
   },
   "outputs": [],
   "source": []
  },
  {
   "cell_type": "code",
   "execution_count": null,
   "metadata": {
    "collapsed": true
   },
   "outputs": [],
   "source": []
  },
  {
   "cell_type": "code",
   "execution_count": null,
   "metadata": {
    "collapsed": true
   },
   "outputs": [],
   "source": []
  }
 ],
 "metadata": {
  "kernelspec": {
   "display_name": "Python 2",
   "language": "python",
   "name": "python2"
  },
  "language_info": {
   "codemirror_mode": {
    "name": "ipython",
    "version": 2
   },
   "file_extension": ".py",
   "mimetype": "text/x-python",
   "name": "python",
   "nbconvert_exporter": "python",
   "pygments_lexer": "ipython2",
   "version": "2.7.13"
  }
 },
 "nbformat": 4,
 "nbformat_minor": 2
}
