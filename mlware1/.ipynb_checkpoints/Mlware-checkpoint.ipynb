{
 "cells": [
  {
   "cell_type": "code",
   "execution_count": 19,
   "metadata": {
    "collapsed": true
   },
   "outputs": [],
   "source": [
    "import pandas as pd\n",
    "import numpy as np\n",
    "import xgboost as xgb\n",
    "from xgboost.sklearn import XGBClassifier\n",
    "from sklearn import cross_validation, metrics   #Additional scklearn functions\n",
    "from sklearn.grid_search import GridSearchCV   #Perforing grid search\n",
    "\n",
    "import matplotlib.pylab as plt\n",
    "%matplotlib inline\n",
    "from matplotlib.pylab import rcParams\n",
    "rcParams['figure.figsize'] = 12, 4\n",
    "import nltk\n",
    "#from fuzzywuzzy import fuzz\n",
    "import re\n",
    "from sklearn.ensemble import GradientBoostingClassifier\n",
    "from nltk.classify.naivebayes import NaiveBayesClassifier"
   ]
  },
  {
   "cell_type": "code",
   "execution_count": 61,
   "metadata": {
    "collapsed": true
   },
   "outputs": [],
   "source": [
    "test = pd.read_csv('test.csv')\n",
    "train = pd.read_csv('train.csv')"
   ]
  },
  {
   "cell_type": "code",
   "execution_count": 62,
   "metadata": {
    "collapsed": false
   },
   "outputs": [],
   "source": [
    "train.head()\n",
    "train['data'] = 'train'\n",
    "test['data'] = 'test'\n",
    "test['label'] = 'sarcastic'\n",
    "combi = pd.concat([train,test])"
   ]
  },
  {
   "cell_type": "code",
   "execution_count": 63,
   "metadata": {
    "collapsed": false
   },
   "outputs": [
    {
     "name": "stdout",
     "output_type": "stream",
     "text": [
      "sarcastic        51300\n",
      "non-sarcastic    39998\n",
      "Name: label, dtype: int64\n",
      "ID       object\n",
      "data     object\n",
      "label    object\n",
      "tweet    object\n",
      "dtype: object\n",
      "(130690, 4)\n",
      "           ID   data      label  \\\n",
      "0  T000452358  train  sarcastic   \n",
      "1  T000452359  train  sarcastic   \n",
      "2  T000452360  train  sarcastic   \n",
      "3  T000452361  train  sarcastic   \n",
      "4  T000452362  train  sarcastic   \n",
      "\n",
      "                                               tweet  \n",
      "0                        b'oh yea that makes sense '  \n",
      "1  Estas enfermedad a un cargo poltico tu como pb...  \n",
      "2  @alleygirl2409 until i\\'m and all the old men ...  \n",
      "3  b\"@sarinas it had been chanted peacefully you ...  \n",
      "4  b\"there's nothing like being on vacation and h...  \n"
     ]
    }
   ],
   "source": [
    "print train.label.value_counts()\n",
    "print combi.dtypes\n",
    "print combi.shape\n",
    "print combi.head()"
   ]
  },
  {
   "cell_type": "code",
   "execution_count": 65,
   "metadata": {
    "collapsed": true
   },
   "outputs": [],
   "source": [
    "\n",
    "def str_stem(s): \n",
    "    if isinstance(s, unicode):\n",
    "        s = s.lower()\n",
    "         # character\n",
    "        s = s.replace(\"inches\",\"in.\") # whole word\n",
    "        s = (\" \").join([stemmer.stem(z) for z in s.split(\" \")])\n",
    "        #volts, watts, amps\n",
    "        return s.lower()\n",
    "    else:\n",
    "        return \"null\"\n",
    "    \n",
    "def str_common_word(str1, str2):\n",
    "    words, cnt = str1.split(), 0\n",
    "    for word in words:\n",
    "        if str2.find(word)>=0:\n",
    "            cnt+=1\n",
    "    return cnt\n",
    "def stopwords_removal(s):\n",
    "    stopwords = nltk.corpus.stopwords.words('english')\n",
    "    words = s.split()\n",
    "    s= [word for word in words if word not in stopwords]\n",
    "def str_replace(s):\n",
    "    s= str(s)\n",
    "    s= re.sub(r'^Certifications.*$',\"Certifications\",s)    \n",
    "    return s    \n",
    "\n",
    "def get_words_in_tweets(tweets):\n",
    "    all_words = []\n",
    "    for words in tweets:\n",
    "        all_words.extend(words)\n",
    "    return all_words\n",
    "\n",
    "def get_word_features(wordlist):\n",
    "    wordlist = nltk.FreqDist(wordlist)\n",
    "    word_features = wordlist.keys()\n",
    "    return word_features"
   ]
  },
  {
   "cell_type": "code",
   "execution_count": 54,
   "metadata": {
    "collapsed": false
   },
   "outputs": [],
   "source": [
    "train['tweet'] = train['tweet'].map(lambda x : get_word_features(x))\n",
    "test['tweet'] = test['tweet'].map(lambda x : stopwords_removal(x))"
   ]
  },
  {
   "cell_type": "code",
   "execution_count": 64,
   "metadata": {
    "collapsed": false
   },
   "outputs": [
    {
     "data": {
      "text/plain": [
       "0                              b'oh yea that makes sense '\n",
       "1        Estas enfermedad a un cargo poltico tu como pb...\n",
       "2        @alleygirl2409 until i\\'m and all the old men ...\n",
       "3        b\"@sarinas it had been chanted peacefully you ...\n",
       "4        b\"there's nothing like being on vacation and h...\n",
       "5        People who are sarcastic tend to be better pro...\n",
       "6        b'May I block you too RT But what if he or she...\n",
       "7        b'Wow I really forgot how much I love the traf...\n",
       "8        b'How perfect my internet just went out thanks...\n",
       "9                          b'Love having no voice $$SAR$$'\n",
       "10       b'Apparently i have to sacrifice a goat and do...\n",
       "11                                 b'Drivers Ed Yay boring\n",
       "12       b'I like how he gets all the credit and not do...\n",
       "13                       b'Ohhhh no ( Seriously #seriously\n",
       "14       b\"secret lt gov debate at the river oaks count...\n",
       "15       carts of shoved in towels a disaster & luggage...\n",
       "16               b'@stoneyj Man do I miss those days #not'\n",
       "17             #sarcasm i quite like himsat mar 234823 ist\n",
       "18       b'More quality sporting interviews from We are...\n",
       "19       b'Dudes bio literally just said \" My name is B...\n",
       "20       is going out with the girls tonight for supper...\n",
       "21       in <or> and (depending on context) school toda...\n",
       "22               b'A phone call a day takes the away #not'\n",
       "23       b'Awww that was such a sweet way to end the ni...\n",
       "24       b\"Sometimes I look like I'm judging people but...\n",
       "25       b\"You can be with someone else just don't try ...\n",
       "26       b\"The fact that you're comparing those who civ...\n",
       "27       b\"Ugh thank you North Carolina weather for bei...\n",
       "28       b\"happy Birthday but i ate it alllol realhahah...\n",
       "29       b'I love how the only time you talk to me when...\n",
       "                               ...                        \n",
       "91268    b'the sellers accepted my offer and the proces...\n",
       "91269    b'top photographer jon capturing shots for our...\n",
       "91270    b'looks like i might finally have some things ...\n",
       "91271    b'very #blackheathstandard #summerfair @aandee...\n",
       "91272    b'i am thankful for the moon and stars #thankf...\n",
       "91273    not an option today will be checking out curse...\n",
       "91274                b'#love yourself first #wisdom #tgif'\n",
       "91275    b\"i started reading a book haven't done that i...\n",
       "91276    b'the secret ingredients for a truly life #hap...\n",
       "91277             just and minutes until kicks off #hope '\n",
       "91278    wedding arubaweddings&ampevents #happy couple ...\n",
       "91279    b\"rt coffee you pick a place i'll pick a table...\n",
       "91280    b\"#flowers can't solve all problems but they'r...\n",
       "91281    b'make your passion your paycheck #lovemyjob #...\n",
       "91282    when it comes to gains now my body is just get...\n",
       "91283    b\"#friday beauties we're are so due for a road...\n",
       "91284    b\"in exactly one month i'll be in pittsburgh a...\n",
       "91285    b\"happy father's day to the men who helped mak...\n",
       "91286                        b'make sure you live a #life'\n",
       "91287    b'check international wellness day we are wait...\n",
       "91288    b'need to sleep early pa tomorrow see you to a...\n",
       "91289                       b'blessed ramadhan bro sunday'\n",
       "91290    b\"still in shock that sorrows come' has been n...\n",
       "91291    b\"today was a success ) sleepover sister's wit...\n",
       "91292    b'this is me right know i still know every mov...\n",
       "91293            b'rt look who visited today @royaltroongc\n",
       "91294                  b'only minutes till the begins with\n",
       "91295        b'so beyond happy to be getting ios tonight '\n",
       "91296    b'skyrim remastered releasing with sun and moo...\n",
       "91297    b'such a big all probably leads to one #conten...\n",
       "Name: tweet, dtype: object"
      ]
     },
     "execution_count": 64,
     "metadata": {},
     "output_type": "execute_result"
    }
   ],
   "source": [
    "train['tweet'] = train"
   ]
  },
  {
   "cell_type": "code",
   "execution_count": 48,
   "metadata": {
    "collapsed": false
   },
   "outputs": [],
   "source": [
    "s = train['tweet'][3].split()\n"
   ]
  },
  {
   "cell_type": "code",
   "execution_count": 50,
   "metadata": {
    "collapsed": true
   },
   "outputs": [],
   "source": [
    "s= [word for word in s if word not in stopwords]"
   ]
  },
  {
   "cell_type": "code",
   "execution_count": 51,
   "metadata": {
    "collapsed": false
   },
   "outputs": [
    {
     "data": {
      "text/plain": [
       "['b\"@sarinas',\n",
       " 'chanted',\n",
       " 'peacefully',\n",
       " \"can't\",\n",
       " 'deny',\n",
       " '#hypocrisysat',\n",
       " 'mar',\n",
       " '154155',\n",
       " 'ist']"
      ]
     },
     "execution_count": 51,
     "metadata": {},
     "output_type": "execute_result"
    }
   ],
   "source": [
    "s"
   ]
  },
  {
   "cell_type": "code",
   "execution_count": 22,
   "metadata": {
    "collapsed": false
   },
   "outputs": [
    {
     "data": {
      "text/html": [
       "<div>\n",
       "<table border=\"1\" class=\"dataframe\">\n",
       "  <thead>\n",
       "    <tr style=\"text-align: right;\">\n",
       "      <th></th>\n",
       "      <th>ID</th>\n",
       "      <th>data</th>\n",
       "      <th>label</th>\n",
       "      <th>tweet</th>\n",
       "    </tr>\n",
       "  </thead>\n",
       "  <tbody>\n",
       "    <tr>\n",
       "      <th>0</th>\n",
       "      <td>T000452358</td>\n",
       "      <td>None</td>\n",
       "      <td>sarcastic</td>\n",
       "      <td>b'oh yea that makes sense '</td>\n",
       "    </tr>\n",
       "    <tr>\n",
       "      <th>1</th>\n",
       "      <td>T000452359</td>\n",
       "      <td>None</td>\n",
       "      <td>sarcastic</td>\n",
       "      <td>Estas enfermedad a un cargo poltico tu como pb...</td>\n",
       "    </tr>\n",
       "    <tr>\n",
       "      <th>2</th>\n",
       "      <td>T000452360</td>\n",
       "      <td>None</td>\n",
       "      <td>sarcastic</td>\n",
       "      <td>@alleygirl2409 until i\\'m and all the old men ...</td>\n",
       "    </tr>\n",
       "    <tr>\n",
       "      <th>3</th>\n",
       "      <td>T000452361</td>\n",
       "      <td>None</td>\n",
       "      <td>sarcastic</td>\n",
       "      <td>b\"@sarinas it had been chanted peacefully you ...</td>\n",
       "    </tr>\n",
       "    <tr>\n",
       "      <th>4</th>\n",
       "      <td>T000452362</td>\n",
       "      <td>None</td>\n",
       "      <td>sarcastic</td>\n",
       "      <td>b\"there's nothing like being on vacation and h...</td>\n",
       "    </tr>\n",
       "  </tbody>\n",
       "</table>\n",
       "</div>"
      ],
      "text/plain": [
       "           ID  data      label  \\\n",
       "0  T000452358  None  sarcastic   \n",
       "1  T000452359  None  sarcastic   \n",
       "2  T000452360  None  sarcastic   \n",
       "3  T000452361  None  sarcastic   \n",
       "4  T000452362  None  sarcastic   \n",
       "\n",
       "                                               tweet  \n",
       "0                        b'oh yea that makes sense '  \n",
       "1  Estas enfermedad a un cargo poltico tu como pb...  \n",
       "2  @alleygirl2409 until i\\'m and all the old men ...  \n",
       "3  b\"@sarinas it had been chanted peacefully you ...  \n",
       "4  b\"there's nothing like being on vacation and h...  "
      ]
     },
     "execution_count": 22,
     "metadata": {},
     "output_type": "execute_result"
    }
   ],
   "source": [
    "combi['tweet'] = combi['tweet'].map(lambda x : get_words_in_tweets(x))"
   ]
  },
  {
   "cell_type": "code",
   "execution_count": 14,
   "metadata": {
    "collapsed": true
   },
   "outputs": [],
   "source": [
    "sol = test[['ID','label']]"
   ]
  },
  {
   "cell_type": "code",
   "execution_count": 17,
   "metadata": {
    "collapsed": false
   },
   "outputs": [],
   "source": [
    "sol.to_csv('sub1.csv')"
   ]
  },
  {
   "cell_type": "code",
   "execution_count": 13,
   "metadata": {
    "collapsed": false
   },
   "outputs": [
    {
     "data": {
      "text/html": [
       "<div>\n",
       "<table border=\"1\" class=\"dataframe\">\n",
       "  <thead>\n",
       "    <tr style=\"text-align: right;\">\n",
       "      <th></th>\n",
       "      <th>ID</th>\n",
       "      <th>label</th>\n",
       "    </tr>\n",
       "  </thead>\n",
       "  <tbody>\n",
       "    <tr>\n",
       "      <th>1</th>\n",
       "      <td>T000543657</td>\n",
       "      <td>sarcastic</td>\n",
       "    </tr>\n",
       "  </tbody>\n",
       "</table>\n",
       "</div>"
      ],
      "text/plain": [
       "           ID      label\n",
       "1  T000543657  sarcastic"
      ]
     },
     "execution_count": 13,
     "metadata": {},
     "output_type": "execute_result"
    }
   ],
   "source": []
  },
  {
   "cell_type": "code",
   "execution_count": null,
   "metadata": {
    "collapsed": true
   },
   "outputs": [],
   "source": []
  }
 ],
 "metadata": {
  "kernelspec": {
   "display_name": "Python [Root]",
   "language": "python",
   "name": "Python [Root]"
  },
  "language_info": {
   "codemirror_mode": {
    "name": "ipython",
    "version": 2
   },
   "file_extension": ".py",
   "mimetype": "text/x-python",
   "name": "python",
   "nbconvert_exporter": "python",
   "pygments_lexer": "ipython2",
   "version": "2.7.12"
  }
 },
 "nbformat": 4,
 "nbformat_minor": 0
}
